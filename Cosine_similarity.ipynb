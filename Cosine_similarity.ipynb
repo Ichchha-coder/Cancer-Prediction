{
  "nbformat": 4,
  "nbformat_minor": 0,
  "metadata": {
    "colab": {
      "provenance": [],
      "authorship_tag": "ABX9TyNaO25zZQwDoDJZJx7CVVpX",
      "include_colab_link": true
    },
    "kernelspec": {
      "name": "python3",
      "display_name": "Python 3"
    },
    "language_info": {
      "name": "python"
    }
  },
  "cells": [
    {
      "cell_type": "markdown",
      "metadata": {
        "id": "view-in-github",
        "colab_type": "text"
      },
      "source": [
        "<a href=\"https://colab.research.google.com/github/Ichchha-coder/Cancer-Prediction/blob/main/Cosine_similarity.ipynb\" target=\"_parent\"><img src=\"https://colab.research.google.com/assets/colab-badge.svg\" alt=\"Open In Colab\"/></a>"
      ]
    },
    {
      "cell_type": "markdown",
      "source": [
        "**Cosine Similarity **"
      ],
      "metadata": {
        "id": "W01QL8FfoV3V"
      }
    },
    {
      "cell_type": "code",
      "source": [
        "import numpy as np\n",
        "from numpy.linalg import norm\n",
        "\n",
        "A = np.array([1,8])\n",
        "B = np.array([9,2])\n",
        "\n",
        "cos_sim = np.dot(A,B)/(norm(A)*norm(B))\n",
        "print(f\"The cosine similarity is: {round(cos_sim,2)}\")"
      ],
      "metadata": {
        "colab": {
          "base_uri": "https://localhost:8080/"
        },
        "id": "RQYWsIxXoZ2p",
        "outputId": "cfe2846d-a3f0-46ad-d327-b81749ebed64"
      },
      "execution_count": 1,
      "outputs": [
        {
          "output_type": "stream",
          "name": "stdout",
          "text": [
            "The cosine similarity is: 0.34\n"
          ]
        }
      ]
    },
    {
      "cell_type": "markdown",
      "source": [
        "# Raw code"
      ],
      "metadata": {
        "id": "lTa0v3KtpMwa"
      }
    },
    {
      "cell_type": "code",
      "source": [
        "import numpy as np\n",
        "\n",
        "# Define vectors A and B\n",
        "A = np.array([1, 8])\n",
        "B = np.array([9, 2])\n",
        "\n",
        "# Calculate dot product of A and B\n",
        "dot_product = np.dot(A, B)\n",
        "\n",
        "# Calculate magnitudes (norms) of A and B manually\n",
        "magnitude_A = np.sqrt(np.sum(A**2))\n",
        "magnitude_B = np.sqrt(np.sum(B**2))\n",
        "\n",
        "# Calculate cosine similarity\n",
        "cos_sim = dot_product / (magnitude_A * magnitude_B)\n",
        "\n",
        "# Print the result\n",
        "print(\"The cosine similarity is:\", round(cos_sim, 2))\n"
      ],
      "metadata": {
        "colab": {
          "base_uri": "https://localhost:8080/"
        },
        "id": "OMlwtC_opOK9",
        "outputId": "a257ca00-3f2b-4250-a0e9-818c21671b2c"
      },
      "execution_count": 3,
      "outputs": [
        {
          "output_type": "stream",
          "name": "stdout",
          "text": [
            "The cosine similarity is: 0.34\n"
          ]
        }
      ]
    },
    {
      "cell_type": "markdown",
      "source": [
        "# Using Sklearn"
      ],
      "metadata": {
        "id": "lz1R4ZI9p5Qx"
      }
    },
    {
      "cell_type": "code",
      "source": [
        "from sklearn.metrics.pairwise import cosine_similarity\n",
        "\n",
        "cos_sim = cosine_similarity(A.reshape(1, -1),B.reshape(1, -1))\n",
        "print(f\"The cosine similarity is: {cos_sim}\")"
      ],
      "metadata": {
        "id": "obi3b0rnp9Nc",
        "outputId": "ab6f03e2-edda-4677-a86a-9ac3f557917b",
        "colab": {
          "base_uri": "https://localhost:8080/"
        }
      },
      "execution_count": 4,
      "outputs": [
        {
          "output_type": "stream",
          "name": "stdout",
          "text": [
            "The cosine similarity is: [[0.3363364]]\n"
          ]
        }
      ]
    }
  ]
}